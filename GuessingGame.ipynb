{
 "cells": [
  {
   "cell_type": "code",
   "execution_count": 16,
   "id": "04f604d0-64c4-46c3-8d95-f8dfbd52538e",
   "metadata": {
    "tags": []
   },
   "outputs": [
    {
     "name": "stdin",
     "output_type": "stream",
     "text": [
      "Enter your guess between 1 and 100: 55\n"
     ]
    },
    {
     "name": "stdout",
     "output_type": "stream",
     "text": [
      "go lower\n"
     ]
    },
    {
     "name": "stdin",
     "output_type": "stream",
     "text": [
      "Enter your guess between 1 and 100: 45\n"
     ]
    },
    {
     "name": "stdout",
     "output_type": "stream",
     "text": [
      "go lower\n"
     ]
    },
    {
     "name": "stdin",
     "output_type": "stream",
     "text": [
      "Enter your guess between 1 and 100: 35\n"
     ]
    },
    {
     "name": "stdout",
     "output_type": "stream",
     "text": [
      "go lower\n"
     ]
    },
    {
     "name": "stdin",
     "output_type": "stream",
     "text": [
      "Enter your guess between 1 and 100: 15\n"
     ]
    },
    {
     "name": "stdout",
     "output_type": "stream",
     "text": [
      "go higher\n"
     ]
    },
    {
     "name": "stdin",
     "output_type": "stream",
     "text": [
      "Enter your guess between 1 and 100: 20\n"
     ]
    },
    {
     "name": "stdout",
     "output_type": "stream",
     "text": [
      "go higher\n"
     ]
    },
    {
     "name": "stdin",
     "output_type": "stream",
     "text": [
      "Enter your guess between 1 and 100: 24\n"
     ]
    },
    {
     "name": "stdout",
     "output_type": "stream",
     "text": [
      "you guessed it!!\n",
      "you guessed in 5 times\n",
      "computer took 1  times\n"
     ]
    }
   ],
   "source": [
    "import random\n",
    "\n",
    "def computerGuess(lowval,highval,randnum,count=0):\n",
    "    if highval >= lowval:\n",
    "        guess = lowval + (highval - lowval) //2\n",
    "        #if guess is in the middle, it is found\n",
    "        if guess == randnum:\n",
    "            return count\n",
    "        #if guess is higher, highvalue must be 1 less than guess\n",
    "        elif guess > randnum:\n",
    "            count = count + 1\n",
    "            return computerGuess(lowval,guess-1,randnum,count)\n",
    "       #if guess is lower, lowvalue must be 1 more than guess\n",
    "        else:\n",
    "            count = count +1\n",
    "            return computerGuess(lowval+1,guess,randnum,count)        \n",
    "    else:\n",
    "        #number not found\n",
    "        return -1\n",
    "#end of function\n",
    "\n",
    "#generate a random number between 1 and 100\n",
    "randnum = random.randint(1,101)\n",
    "\n",
    "count = 0\n",
    "guess = -99\n",
    "\n",
    "while (guess!=random):\n",
    "    # Get the user's guess\n",
    "    guess = (int) (input(\"Enter your guess between 1 and 100:\"))\n",
    "    if guess < randnum:\n",
    "        print(\"go higher\")\n",
    "    elif guess > randnum:\n",
    "        print(\"go lower\")\n",
    "    else:\n",
    "        print(\"you guessed it!!\")\n",
    "        break\n",
    "    count=count+1\n",
    "print(\"you guessed in\",count,\"times\")\n",
    "print(\"computer took\", computerGuess(0,100,randnum),\"times\")"
   ]
  },
  {
   "cell_type": "code",
   "execution_count": null,
   "id": "cc54602e-4491-4e71-a56a-fcacbe7a088b",
   "metadata": {},
   "outputs": [],
   "source": []
  }
 ],
 "metadata": {
  "kernelspec": {
   "display_name": "Python 3 (ipykernel)",
   "language": "python",
   "name": "python3"
  },
  "language_info": {
   "codemirror_mode": {
    "name": "ipython",
    "version": 3
   },
   "file_extension": ".py",
   "mimetype": "text/x-python",
   "name": "python",
   "nbconvert_exporter": "python",
   "pygments_lexer": "ipython3",
   "version": "3.11.5"
  }
 },
 "nbformat": 4,
 "nbformat_minor": 5
}
